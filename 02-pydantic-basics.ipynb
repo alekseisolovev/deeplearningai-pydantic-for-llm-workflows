{
 "cells": [
  {
   "cell_type": "markdown",
   "id": "16503865",
   "metadata": {},
   "source": [
    "# Lesson 2: Pydantic Basics\n",
    "\n",
    "In this lesson, you'll learn the fundamentals of Pydantic models for data validation using a customer support system as your example application. You'll see how to define data models, validate user input, and handle validation errors gracefully.\n",
    "\n",
    "By the end of this lesson, you'll be able to:\n",
    "- Create Pydantic models to validate user input data\n",
    "- Handle validation errors with proper error handling\n",
    "- Use optional fields and field constraints in your models\n",
    "- Work with JSON data validation methods\n",
    "\n",
    "---"
   ]
  },
  {
   "cell_type": "code",
   "execution_count": 1,
   "id": "313faba4",
   "metadata": {
    "height": 64
   },
   "outputs": [],
   "source": [
    "# Import libraries needed for the lesson\n",
    "import json\n",
    "\n",
    "from pydantic import BaseModel, EmailStr, ValidationError"
   ]
  },
  {
   "cell_type": "markdown",
   "id": "abffb4e5",
   "metadata": {},
   "source": [
    "### Define a UserInput Pydantic model and populate it with data"
   ]
  },
  {
   "cell_type": "code",
   "execution_count": 2,
   "id": "22fb4703",
   "metadata": {
    "height": 98
   },
   "outputs": [],
   "source": [
    "# Create a Pydantic model for validating user input\n",
    "class UserInput(BaseModel):\n",
    "    name: str\n",
    "    email: EmailStr\n",
    "    query: str"
   ]
  },
  {
   "cell_type": "code",
   "execution_count": 3,
   "id": "f66ecbe4",
   "metadata": {
    "height": 132
   },
   "outputs": [
    {
     "name": "stdout",
     "output_type": "stream",
     "text": [
      "name='Joe User' email='joe.user@example.com' query='I forgot my password.'\n"
     ]
    }
   ],
   "source": [
    "# Create a model instance\n",
    "user_input = UserInput(\n",
    "    name=\"Joe User\", email=\"joe.user@example.com\", query=\"I forgot my password.\"\n",
    ")\n",
    "print(user_input)"
   ]
  },
  {
   "cell_type": "markdown",
   "id": "983e9422",
   "metadata": {},
   "source": [
    "### Note: the following cell will produce a validation error. You can correct the error by following along with the video, or just proceed with the rest of the notebook as cells below do not depend on this cell. "
   ]
  },
  {
   "cell_type": "raw",
   "id": "a9d36d30",
   "metadata": {
    "height": 147
   },
   "source": [
    "# Attempt to create another model instance with an invalid email\n",
    "user_input = UserInput(\n",
    "    name=\"Joe User\", \n",
    "    email=\"not-an-email\", \n",
    "    query=\"I forgot my password.\"\n",
    ")\n",
    "print(user_input)"
   ]
  },
  {
   "cell_type": "markdown",
   "id": "747bcdd0",
   "metadata": {},
   "source": [
    "### Define a function for error handling and try different inputs"
   ]
  },
  {
   "cell_type": "code",
   "execution_count": 4,
   "id": "a482a1a0",
   "metadata": {
    "height": 266
   },
   "outputs": [],
   "source": [
    "# Define a function to handle user input validation safely\n",
    "def validate_user_input(input_data):\n",
    "    try:\n",
    "        # Attempt to create a UserInput model instance from user input data\n",
    "        user_input = UserInput(**input_data)\n",
    "        print(f\"✅ Valid user input created:\")\n",
    "        print(f\"{user_input.model_dump_json(indent=2)}\")\n",
    "        return user_input\n",
    "    except ValidationError as e:\n",
    "        # Capture and display validation errors in a readable format\n",
    "        print(f\"❌ Validation error occurred:\")\n",
    "        for error in e.errors():\n",
    "            print(f\"  - {error['loc'][0]}: {error['msg']}\")\n",
    "        return None"
   ]
  },
  {
   "cell_type": "code",
   "execution_count": 5,
   "id": "d19e0606",
   "metadata": {
    "height": 164
   },
   "outputs": [
    {
     "name": "stdout",
     "output_type": "stream",
     "text": [
      "✅ Valid user input created:\n",
      "{\n",
      "  \"name\": \"Joe User\",\n",
      "  \"email\": \"joe.user@example.com\",\n",
      "  \"query\": \"I forgot my password.\"\n",
      "}\n"
     ]
    }
   ],
   "source": [
    "# Create an instance of UserInput using validate_user_input() function\n",
    "input_data = {\n",
    "    \"name\": \"Joe User\",\n",
    "    \"email\": \"joe.user@example.com\",\n",
    "    \"query\": \"I forgot my password.\",\n",
    "}\n",
    "\n",
    "user_input = validate_user_input(input_data)"
   ]
  },
  {
   "cell_type": "code",
   "execution_count": 6,
   "id": "1847c1c2",
   "metadata": {
    "height": 147
   },
   "outputs": [
    {
     "name": "stdout",
     "output_type": "stream",
     "text": [
      "❌ Validation error occurred:\n",
      "  - query: Field required\n"
     ]
    }
   ],
   "source": [
    "# Attempt to create an instance of UserInput with missing query field\n",
    "input_data = {\"name\": \"Joe User\", \"email\": \"joe.user@example.com\"}\n",
    "\n",
    "user_input = validate_user_input(input_data)"
   ]
  },
  {
   "cell_type": "markdown",
   "id": "6cc0e095",
   "metadata": {},
   "source": [
    "### Update your UserInput data model with additional fields and experiment with different input data"
   ]
  },
  {
   "cell_type": "code",
   "execution_count": 7,
   "id": "2e1a33ab",
   "metadata": {
    "height": 317
   },
   "outputs": [],
   "source": [
    "# Import additional libraries for enhanced validation\n",
    "from datetime import date\n",
    "from typing import Optional\n",
    "\n",
    "from pydantic import Field\n",
    "\n",
    "\n",
    "# Define a new UserInput model with optional fields\n",
    "class UserInput(BaseModel):\n",
    "    name: str\n",
    "    email: EmailStr\n",
    "    query: str\n",
    "    order_id: Optional[int] = Field(\n",
    "        None,\n",
    "        description=\"5-digit order number (cannot start with 0)\",\n",
    "        ge=10000,\n",
    "        le=99999,\n",
    "    )\n",
    "    purchase_date: Optional[date] = None"
   ]
  },
  {
   "cell_type": "code",
   "execution_count": 8,
   "id": "59d39791",
   "metadata": {
    "height": 166
   },
   "outputs": [
    {
     "name": "stdout",
     "output_type": "stream",
     "text": [
      "✅ Valid user input created:\n",
      "{\n",
      "  \"name\": \"Joe User\",\n",
      "  \"email\": \"joe.user@example.com\",\n",
      "  \"query\": \"I forgot my password.\",\n",
      "  \"order_id\": null,\n",
      "  \"purchase_date\": null\n",
      "}\n"
     ]
    }
   ],
   "source": [
    "# Define a dictionary with required fields only\n",
    "input_data = {\n",
    "    \"name\": \"Joe User\",\n",
    "    \"email\": \"joe.user@example.com\",\n",
    "    \"query\": \"I forgot my password.\",\n",
    "}\n",
    "\n",
    "# Validate the user input data\n",
    "user_input = validate_user_input(input_data)"
   ]
  },
  {
   "cell_type": "code",
   "execution_count": 9,
   "id": "db39c3ae",
   "metadata": {
    "height": 30
   },
   "outputs": [
    {
     "name": "stdout",
     "output_type": "stream",
     "text": [
      "name='Joe User' email='joe.user@example.com' query='I forgot my password.' order_id=None purchase_date=None\n"
     ]
    }
   ],
   "source": [
    "print(user_input)"
   ]
  },
  {
   "cell_type": "code",
   "execution_count": 10,
   "id": "54589363",
   "metadata": {
    "height": 232
   },
   "outputs": [
    {
     "name": "stdout",
     "output_type": "stream",
     "text": [
      "✅ Valid user input created:\n",
      "{\n",
      "  \"name\": \"Joe User\",\n",
      "  \"email\": \"joe.user@example.com\",\n",
      "  \"query\": \"I bought a laptop carrying case and it turned out to be \\n             the wrong size. I need to return it.\",\n",
      "  \"order_id\": 12345,\n",
      "  \"purchase_date\": \"2025-12-31\"\n",
      "}\n"
     ]
    }
   ],
   "source": [
    "# Define a dictionary with all fields including optional ones\n",
    "input_data = {\n",
    "    \"name\": \"Joe User\",\n",
    "    \"email\": \"joe.user@example.com\",\n",
    "    \"query\": f\"\"\"I bought a laptop carrying case and it turned out to be \n",
    "             the wrong size. I need to return it.\"\"\",\n",
    "    \"order_id\": 12345,\n",
    "    \"purchase_date\": date(2025, 12, 31),\n",
    "}\n",
    "\n",
    "# Validate the user input data\n",
    "user_input = validate_user_input(input_data)"
   ]
  },
  {
   "cell_type": "code",
   "execution_count": 11,
   "id": "fa20287b",
   "metadata": {
    "height": 266
   },
   "outputs": [
    {
     "name": "stdout",
     "output_type": "stream",
     "text": [
      "✅ Valid user input created:\n",
      "{\n",
      "  \"name\": \"Joe User\",\n",
      "  \"email\": \"joe.user@example.com\",\n",
      "  \"query\": \"I bought a laptop carrying case and it turned out to be \\n             the wrong size. I need to return it.\",\n",
      "  \"order_id\": 12345,\n",
      "  \"purchase_date\": \"2025-12-31\"\n",
      "}\n"
     ]
    }
   ],
   "source": [
    "# Define a dictionary with all fields and including additional ones\n",
    "input_data = {\n",
    "    \"name\": \"Joe User\",\n",
    "    \"email\": \"joe.user@example.com\",\n",
    "    \"query\": f\"\"\"I bought a laptop carrying case and it turned out to be \n",
    "             the wrong size. I need to return it.\"\"\",\n",
    "    \"order_id\": 12345,\n",
    "    \"purchase_date\": date(2025, 12, 31),\n",
    "    \"system_message\": \"logging status regarding order processing...\",\n",
    "    \"iteration\": 1,\n",
    "}\n",
    "\n",
    "# Validate the user input data\n",
    "user_input = validate_user_input(input_data)"
   ]
  },
  {
   "cell_type": "code",
   "execution_count": 12,
   "id": "b472fa30",
   "metadata": {
    "height": 30
   },
   "outputs": [
    {
     "name": "stdout",
     "output_type": "stream",
     "text": [
      "name='Joe User' email='joe.user@example.com' query='I bought a laptop carrying case and it turned out to be \\n             the wrong size. I need to return it.' order_id=12345 purchase_date=datetime.date(2025, 12, 31)\n"
     ]
    }
   ],
   "source": [
    "print(user_input)"
   ]
  },
  {
   "cell_type": "code",
   "execution_count": 13,
   "id": "dc62d5b6",
   "metadata": {
    "height": 215
   },
   "outputs": [
    {
     "name": "stdout",
     "output_type": "stream",
     "text": [
      "✅ Valid user input created:\n",
      "{\n",
      "  \"name\": \"Joe User\",\n",
      "  \"email\": \"joe.user@example.com\",\n",
      "  \"query\": \"I bought a laptop carrying case and it turned out to be \\n             the wrong size. I need to return it.\",\n",
      "  \"order_id\": 12345,\n",
      "  \"purchase_date\": \"2025-12-31\"\n",
      "}\n"
     ]
    }
   ],
   "source": [
    "# Create an instance of UserInput with valid data\n",
    "input_data = {\n",
    "    \"name\": \"Joe User\",\n",
    "    \"email\": \"joe.user@example.com\",\n",
    "    \"query\": f\"\"\"I bought a laptop carrying case and it turned out to be \n",
    "             the wrong size. I need to return it.\"\"\",\n",
    "    \"order_id\": 12345,\n",
    "    \"purchase_date\": \"2025-12-31\",\n",
    "}\n",
    "\n",
    "user_input = validate_user_input(input_data)"
   ]
  },
  {
   "cell_type": "code",
   "execution_count": 14,
   "id": "831a96c8",
   "metadata": {
    "height": 232
   },
   "outputs": [
    {
     "name": "stdout",
     "output_type": "stream",
     "text": [
      "✅ Valid user input created:\n",
      "{\n",
      "  \"name\": \"Joe User\",\n",
      "  \"email\": \"joe.user@example.com\",\n",
      "  \"query\": \"I bought a laptop carrying case and it turned out to be \\n             the wrong size. I need to return it.\",\n",
      "  \"order_id\": 12345,\n",
      "  \"purchase_date\": \"2025-12-31\"\n",
      "}\n"
     ]
    }
   ],
   "source": [
    "# Define order_id as a string\n",
    "input_data = {\n",
    "    \"name\": \"Joe User\",\n",
    "    \"email\": \"joe.user@example.com\",\n",
    "    \"query\": f\"\"\"I bought a laptop carrying case and it turned out to be \n",
    "             the wrong size. I need to return it.\"\"\",\n",
    "    \"order_id\": \"12345\",\n",
    "    \"purchase_date\": \"2025-12-31\",\n",
    "}\n",
    "\n",
    "# Validate the user input data\n",
    "user_input = validate_user_input(input_data)"
   ]
  },
  {
   "cell_type": "code",
   "execution_count": 15,
   "id": "008ba735",
   "metadata": {
    "height": 232
   },
   "outputs": [
    {
     "name": "stdout",
     "output_type": "stream",
     "text": [
      "❌ Validation error occurred:\n",
      "  - name: Input should be a valid string\n"
     ]
    }
   ],
   "source": [
    "# Define name field as an integer\n",
    "input_data = {\n",
    "    \"name\": 99999,\n",
    "    \"email\": \"joe.user@example.com\",\n",
    "    \"query\": f\"\"\"I bought a laptop carrying case and it turned out to be \n",
    "             the wrong size. I need to return it.\"\"\",\n",
    "    \"order_id\": 12345,\n",
    "    \"purchase_date\": \"2025-12-31\",\n",
    "}\n",
    "\n",
    "# Validate the user input data\n",
    "user_input = validate_user_input(input_data)"
   ]
  },
  {
   "cell_type": "markdown",
   "id": "0b5b6dfd",
   "metadata": {},
   "source": [
    "### Try starting with JSON data as input"
   ]
  },
  {
   "cell_type": "code",
   "execution_count": 16,
   "id": "5fced4d7",
   "metadata": {
    "height": 266
   },
   "outputs": [
    {
     "name": "stdout",
     "output_type": "stream",
     "text": [
      "Parsed JSON: {'name': 'Joe User', 'email': 'joe.user@example.com', 'query': 'I bought a keyboard and mouse and was overcharged.', 'order_id': 12345, 'purchase_date': '2025-12-31'}\n"
     ]
    }
   ],
   "source": [
    "# Define user input as JSON data\n",
    "json_data = \"\"\"\n",
    "{\n",
    "    \"name\": \"Joe User\",\n",
    "    \"email\": \"joe.user@example.com\",\n",
    "    \"query\": \"I bought a keyboard and mouse and was overcharged.\",\n",
    "    \"order_id\": 12345,\n",
    "    \"purchase_date\": \"2025-12-31\"\n",
    "}\n",
    "\"\"\"\n",
    "\n",
    "# Parse the JSON string into a Python dictionary\n",
    "input_data = json.loads(json_data)\n",
    "print(\"Parsed JSON:\", input_data)"
   ]
  },
  {
   "cell_type": "code",
   "execution_count": 17,
   "id": "cfa83a9c",
   "metadata": {
    "height": 47
   },
   "outputs": [
    {
     "name": "stdout",
     "output_type": "stream",
     "text": [
      "✅ Valid user input created:\n",
      "{\n",
      "  \"name\": \"Joe User\",\n",
      "  \"email\": \"joe.user@example.com\",\n",
      "  \"query\": \"I bought a keyboard and mouse and was overcharged.\",\n",
      "  \"order_id\": 12345,\n",
      "  \"purchase_date\": \"2025-12-31\"\n",
      "}\n"
     ]
    }
   ],
   "source": [
    "# Validate the user iput data\n",
    "user_input = validate_user_input(input_data)"
   ]
  },
  {
   "cell_type": "code",
   "execution_count": 18,
   "id": "15c0bf4f",
   "metadata": {
    "height": 251
   },
   "outputs": [
    {
     "name": "stdout",
     "output_type": "stream",
     "text": [
      "Parsed JSON: {'name': 'Joe User', 'email': 'joe.user@example.com', 'query': 'My account has been locked for some reason.', 'order_id': '01234', 'purchase_date': '2025-12-31'}\n"
     ]
    }
   ],
   "source": [
    "# Try different JSON input\n",
    "json_data = \"\"\"\n",
    "{\n",
    "    \"name\": \"Joe User\",\n",
    "    \"email\": \"joe.user@example.com\",\n",
    "    \"query\": \"My account has been locked for some reason.\",\n",
    "    \"order_id\": \"01234\",\n",
    "    \"purchase_date\": \"2025-12-31\"\n",
    "}\n",
    "\"\"\"\n",
    "\n",
    "# Parse the JSON into a Python dictionary\n",
    "input_data = json.loads(json_data)\n",
    "print(\"Parsed JSON:\", input_data)"
   ]
  },
  {
   "cell_type": "code",
   "execution_count": 19,
   "id": "da043b60",
   "metadata": {
    "height": 62
   },
   "outputs": [
    {
     "name": "stdout",
     "output_type": "stream",
     "text": [
      "❌ Validation error occurred:\n",
      "  - order_id: Input should be greater than or equal to 10000\n"
     ]
    }
   ],
   "source": [
    "# Validate the customer support data from JSON with non-standard formats\n",
    "user_input = validate_user_input(input_data)"
   ]
  },
  {
   "cell_type": "markdown",
   "id": "7a6c4b1b",
   "metadata": {},
   "source": [
    "### Try the `model_validate_json` method"
   ]
  },
  {
   "cell_type": "markdown",
   "id": "b7564a7d",
   "metadata": {},
   "source": [
    "### Note: the following cell will produce a validation error. You can correct the error by following along with the video. "
   ]
  },
  {
   "cell_type": "raw",
   "id": "fad15efa",
   "metadata": {
    "height": 79
   },
   "source": [
    "# Parse JSON and validate user input data in one step using model_validate_json method\n",
    "user_input = UserInput.model_validate_json(json_data)\n",
    "print(user_input.model_dump_json(indent=2))"
   ]
  },
  {
   "cell_type": "markdown",
   "id": "31772700",
   "metadata": {},
   "source": [
    "---\n",
    "\n",
    "## Conclusion\n",
    "\n",
    "In this lesson, you learned how to use Pydantic models to validate user input for a customer support scenario. By defining clear data models and handling validation errors, you can ensure your code only works with well-formed data. This approach helps you build more robust and reliable applications, and sets the stage for more advanced validation and structured output in future lessons."
   ]
  },
  {
   "cell_type": "code",
   "execution_count": null,
   "id": "a51482f7-204d-4b94-9f9e-9fe1eae72361",
   "metadata": {},
   "outputs": [],
   "source": []
  }
 ],
 "metadata": {
  "kernelspec": {
   "display_name": "Python 3 (ipykernel)",
   "language": "python",
   "name": "python3"
  },
  "language_info": {
   "codemirror_mode": {
    "name": "ipython",
    "version": 3
   },
   "file_extension": ".py",
   "mimetype": "text/x-python",
   "name": "python",
   "nbconvert_exporter": "python",
   "pygments_lexer": "ipython3",
   "version": "3.11.13"
  }
 },
 "nbformat": 4,
 "nbformat_minor": 5
}
